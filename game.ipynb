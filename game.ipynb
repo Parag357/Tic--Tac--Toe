{
 "cells": [
  {
   "cell_type": "code",
   "execution_count": 2,
   "metadata": {},
   "outputs": [],
   "source": [
    "# displaying the board"
   ]
  },
  {
   "cell_type": "code",
   "execution_count": 1,
   "metadata": {},
   "outputs": [],
   "source": [
    "def disp(var):\n",
    "    print(var[7]+' | '+var[8]+' | '+var[9]+'\\n')\n",
    "    print(var[4]+' | '+var[5]+' | '+var[6]+'\\n')\n",
    "    print(var[1]+' | '+var[2]+' | '+var[3]+'\\n')"
   ]
  },
  {
   "cell_type": "code",
   "execution_count": 2,
   "metadata": {},
   "outputs": [
    {
     "name": "stdout",
     "output_type": "stream",
     "text": [
      "x | 0 | x\n",
      "\n",
      "0 | x | 0\n",
      "\n",
      "x | 0 | x\n",
      "\n"
     ]
    }
   ],
   "source": [
    "disp(['#','x','0','x','0','x','0','x','0','x'])"
   ]
  },
  {
   "cell_type": "code",
   "execution_count": 3,
   "metadata": {},
   "outputs": [],
   "source": [
    "# defining initial position"
   ]
  },
  {
   "cell_type": "code",
   "execution_count": 4,
   "metadata": {},
   "outputs": [],
   "source": [
    "def init():\n",
    "    pos=input('Welcome to TIC - TAC - TOE \\n\\nPlayer 1: Do you want to be x or o?')\n",
    "    while pos !=  'x' and pos != 'o':\n",
    "            pos=input('\\nInvalid Input !!! Please choose x or o')\n",
    "    else:\n",
    "        print('\\nPlayer 1 chooses '+pos + '\\n\\nPlayer 1, here you go !!! \\n\\nthe positions on the board are like:\\n')\n",
    "        disp(['#','1','2','3','4','5','6','7','8','9'])\n",
    "        return pos"
   ]
  },
  {
   "cell_type": "code",
   "execution_count": 5,
   "metadata": {},
   "outputs": [
    {
     "name": "stdout",
     "output_type": "stream",
     "text": [
      "Welcome to TIC - TAC - TOE \n",
      "\n",
      "Player 1: Do you want to be x or o?\n",
      "\n",
      "Invalid Input !!! Please choose x or ox\n",
      "\n",
      "Player 1 chooses x\n",
      "\n",
      "Player 1, here you go !!! \n",
      "\n",
      "the positions on the board are like:\n",
      "\n",
      "7 | 8 | 9\n",
      "\n",
      "4 | 5 | 6\n",
      "\n",
      "1 | 2 | 3\n",
      "\n"
     ]
    }
   ],
   "source": [
    "x=init()"
   ]
  },
  {
   "cell_type": "code",
   "execution_count": 6,
   "metadata": {},
   "outputs": [],
   "source": [
    "# defining a function to enter x or o to the board"
   ]
  },
  {
   "cell_type": "code",
   "execution_count": 7,
   "metadata": {},
   "outputs": [],
   "source": [
    "def marker(board,pos,tog):\n",
    "    p=pos\n",
    "    while board[p] != '-':\n",
    "        p=int(input('\\nthis position is already filled, try another one between 1-9\\n'))\n",
    "    else:\n",
    "        board[p]=tog\n",
    "    disp(board)\n",
    "    return board"
   ]
  },
  {
   "cell_type": "code",
   "execution_count": 8,
   "metadata": {},
   "outputs": [
    {
     "name": "stdout",
     "output_type": "stream",
     "text": [
      "- | - | -\n",
      "\n",
      "- | - | -\n",
      "\n",
      "x | - | -\n",
      "\n"
     ]
    },
    {
     "data": {
      "text/plain": [
       "['#', 'x', '-', '-', '-', '-', '-', '-', '-', '-']"
      ]
     },
     "execution_count": 8,
     "metadata": {},
     "output_type": "execute_result"
    }
   ],
   "source": [
    "marker(['#','-','-','-','-','-','-','-','-','-'],1,'x')"
   ]
  },
  {
   "cell_type": "code",
   "execution_count": 9,
   "metadata": {},
   "outputs": [],
   "source": [
    "#defining a function to take user- input"
   ]
  },
  {
   "cell_type": "code",
   "execution_count": 10,
   "metadata": {},
   "outputs": [],
   "source": [
    "def pos(player,marker):\n",
    "    pos=int(input(player+', on which position do you want to assign '+marker+' ? \\n'))\n",
    "    while pos not in range(1,10):\n",
    "            pos=input('\\nInvalid Input !!! Please choose any number between 1-9')\n",
    "    else:\n",
    "        return pos"
   ]
  },
  {
   "cell_type": "code",
   "execution_count": 11,
   "metadata": {},
   "outputs": [
    {
     "name": "stdout",
     "output_type": "stream",
     "text": [
      "player1, on which position do you want to assign x ? \n",
      "1\n"
     ]
    }
   ],
   "source": [
    "x=pos('player1','x')"
   ]
  },
  {
   "cell_type": "code",
   "execution_count": 12,
   "metadata": {},
   "outputs": [
    {
     "data": {
      "text/plain": [
       "1"
      ]
     },
     "execution_count": 12,
     "metadata": {},
     "output_type": "execute_result"
    }
   ],
   "source": [
    "x\n"
   ]
  },
  {
   "cell_type": "code",
   "execution_count": 13,
   "metadata": {},
   "outputs": [],
   "source": [
    "#function to check if game is won,tied, lost, or ongoing."
   ]
  },
  {
   "cell_type": "code",
   "execution_count": 14,
   "metadata": {},
   "outputs": [],
   "source": [
    "def check(board):\n",
    "    if board[1]==board[4]==board[7]!='-':\n",
    "        return True\n",
    "    elif board[2]==board[5]==board[8]!='-':\n",
    "        return True\n",
    "    elif board[3]==board[6]==board[9]!='-':\n",
    "        return True\n",
    "    elif board[1]==board[2]==board[3]!='-':\n",
    "        return True\n",
    "    elif board[4]==board[5]==board[6]!='-':\n",
    "        return True\n",
    "    elif board[7]==board[8]==board[9]!='-':\n",
    "        return True\n",
    "    elif board[1]==board[5]==board[9]!='-':\n",
    "        return True\n",
    "    elif board[3]==board[5]==board[7]!='-':\n",
    "        return True\n",
    "    else:\n",
    "        return False"
   ]
  },
  {
   "cell_type": "code",
   "execution_count": 15,
   "metadata": {},
   "outputs": [],
   "source": [
    "# to check if game is a tie\n"
   ]
  },
  {
   "cell_type": "code",
   "execution_count": 16,
   "metadata": {},
   "outputs": [],
   "source": [
    "def tie(board):\n",
    "    return('-' not in board)"
   ]
  },
  {
   "cell_type": "code",
   "execution_count": 17,
   "metadata": {},
   "outputs": [],
   "source": [
    "import random\n",
    "def game():\n",
    "    play='y'\n",
    "    while(play=='y'):\n",
    "        player='player1'\n",
    "        mkr=init() # mkr takes either x or o\n",
    "        board=['-' for i in range(0,10)]\n",
    "        board[0]='#'\n",
    "        cont =True # cont checks if game has to be contiued or not\n",
    "        while cont:\n",
    "            psn = pos(player,mkr) #psn is the position on the grid\n",
    "            board = marker(board,psn,mkr)\n",
    "            cont=check(board)\n",
    "            if cont:\n",
    "                print(player+' wins !!!!')\n",
    "                cont=False\n",
    "            elif tie(board):\n",
    "                print('game tied !!!!')\n",
    "                cont=False\n",
    "            else:\n",
    "                if mkr=='x':\n",
    "                    mkr='o'\n",
    "                else:\n",
    "                    mkr='x'\n",
    "                if player == 'player1':\n",
    "                    player='player2'\n",
    "                else:\n",
    "                    player='player1'\n",
    "                #print(mkr,player)\n",
    "                cont=True\n",
    "        else:\n",
    "            play=input('Do you want to continue, enter y to continue or any other key to stop.')\n",
    "    else:\n",
    "        print('thanks for playing this game')"
   ]
  },
  {
   "cell_type": "code",
   "execution_count": 18,
   "metadata": {},
   "outputs": [
    {
     "name": "stdout",
     "output_type": "stream",
     "text": [
      "Welcome to TIC - TAC - TOE \n",
      "\n",
      "Player 1: Do you want to be x or o?x\n",
      "\n",
      "Player 1 chooses x\n",
      "\n",
      "Player 1, here you go !!! \n",
      "\n",
      "the positions on the board are like:\n",
      "\n",
      "7 | 8 | 9\n",
      "\n",
      "4 | 5 | 6\n",
      "\n",
      "1 | 2 | 3\n",
      "\n",
      "player1, on which position do you want to assign x ? \n",
      "1\n",
      "- | - | -\n",
      "\n",
      "- | - | -\n",
      "\n",
      "x | - | -\n",
      "\n",
      "player2, on which position do you want to assign o ? \n",
      "2\n",
      "- | - | -\n",
      "\n",
      "- | - | -\n",
      "\n",
      "x | o | -\n",
      "\n",
      "player1, on which position do you want to assign x ? \n",
      "3\n",
      "- | - | -\n",
      "\n",
      "- | - | -\n",
      "\n",
      "x | o | x\n",
      "\n",
      "player2, on which position do you want to assign o ? \n",
      "4\n",
      "- | - | -\n",
      "\n",
      "o | - | -\n",
      "\n",
      "x | o | x\n",
      "\n",
      "player1, on which position do you want to assign x ? \n",
      "5\n",
      "- | - | -\n",
      "\n",
      "o | x | -\n",
      "\n",
      "x | o | x\n",
      "\n",
      "player2, on which position do you want to assign o ? \n",
      "7\n",
      "o | - | -\n",
      "\n",
      "o | x | -\n",
      "\n",
      "x | o | x\n",
      "\n",
      "player1, on which position do you want to assign x ? \n",
      "6\n",
      "o | - | -\n",
      "\n",
      "o | x | x\n",
      "\n",
      "x | o | x\n",
      "\n",
      "player2, on which position do you want to assign o ? \n",
      "9\n",
      "o | - | o\n",
      "\n",
      "o | x | x\n",
      "\n",
      "x | o | x\n",
      "\n",
      "player1, on which position do you want to assign x ? \n",
      "6\n",
      "\n",
      "this position is already filled, try another one between 1-9\n",
      "8\n",
      "o | x | o\n",
      "\n",
      "o | x | x\n",
      "\n",
      "x | o | x\n",
      "\n",
      "game tied !!!!\n",
      "Do you want to continue, enter y to continue or any other key to stop.y\n",
      "Welcome to TIC - TAC - TOE \n",
      "\n",
      "Player 1: Do you want to be x or o?o\n",
      "\n",
      "Player 1 chooses o\n",
      "\n",
      "Player 1, here you go !!! \n",
      "\n",
      "the positions on the board are like:\n",
      "\n",
      "7 | 8 | 9\n",
      "\n",
      "4 | 5 | 6\n",
      "\n",
      "1 | 2 | 3\n",
      "\n",
      "player1, on which position do you want to assign o ? \n",
      "1\n",
      "- | - | -\n",
      "\n",
      "- | - | -\n",
      "\n",
      "o | - | -\n",
      "\n",
      "player2, on which position do you want to assign x ? \n",
      "4\n",
      "- | - | -\n",
      "\n",
      "x | - | -\n",
      "\n",
      "o | - | -\n",
      "\n",
      "player1, on which position do you want to assign o ? \n",
      "2\n",
      "- | - | -\n",
      "\n",
      "x | - | -\n",
      "\n",
      "o | o | -\n",
      "\n",
      "player2, on which position do you want to assign x ? \n",
      "5\n",
      "- | - | -\n",
      "\n",
      "x | x | -\n",
      "\n",
      "o | o | -\n",
      "\n",
      "player1, on which position do you want to assign o ? \n",
      "3\n",
      "- | - | -\n",
      "\n",
      "x | x | -\n",
      "\n",
      "o | o | o\n",
      "\n",
      "player1 wins !!!!\n",
      "Do you want to continue, enter y to continue or any other key to stop.y\n",
      "Welcome to TIC - TAC - TOE \n",
      "\n",
      "Player 1: Do you want to be x or o?p\n",
      "\n",
      "Invalid Input !!! Please choose x or oo\n",
      "\n",
      "Player 1 chooses o\n",
      "\n",
      "Player 1, here you go !!! \n",
      "\n",
      "the positions on the board are like:\n",
      "\n",
      "7 | 8 | 9\n",
      "\n",
      "4 | 5 | 6\n",
      "\n",
      "1 | 2 | 3\n",
      "\n",
      "player1, on which position do you want to assign o ? \n",
      "1\n",
      "- | - | -\n",
      "\n",
      "- | - | -\n",
      "\n",
      "o | - | -\n",
      "\n",
      "player2, on which position do you want to assign x ? \n",
      "1\n",
      "\n",
      "this position is already filled, try another one between 1-9\n",
      "1\n",
      "\n",
      "this position is already filled, try another one between 1-9\n",
      "1\n",
      "\n",
      "this position is already filled, try another one between 1-9\n",
      "1\n",
      "\n",
      "this position is already filled, try another one between 1-9\n",
      "1\n",
      "\n",
      "this position is already filled, try another one between 1-9\n",
      "2\n",
      "- | - | -\n",
      "\n",
      "- | - | -\n",
      "\n",
      "o | x | -\n",
      "\n",
      "player1, on which position do you want to assign o ? \n",
      "2\n",
      "\n",
      "this position is already filled, try another one between 1-9\n",
      "2\n",
      "\n",
      "this position is already filled, try another one between 1-9\n",
      "2\n",
      "\n",
      "this position is already filled, try another one between 1-9\n",
      "1\n",
      "\n",
      "this position is already filled, try another one between 1-9\n",
      "3\n",
      "- | - | -\n",
      "\n",
      "- | - | -\n",
      "\n",
      "o | x | o\n",
      "\n",
      "player2, on which position do you want to assign x ? \n",
      "4\n",
      "- | - | -\n",
      "\n",
      "x | - | -\n",
      "\n",
      "o | x | o\n",
      "\n",
      "player1, on which position do you want to assign o ? \n",
      "5\n",
      "- | - | -\n",
      "\n",
      "x | o | -\n",
      "\n",
      "o | x | o\n",
      "\n",
      "player2, on which position do you want to assign x ? \n",
      "6\n",
      "- | - | -\n",
      "\n",
      "x | o | x\n",
      "\n",
      "o | x | o\n",
      "\n",
      "player1, on which position do you want to assign o ? \n",
      "7\n",
      "o | - | -\n",
      "\n",
      "x | o | x\n",
      "\n",
      "o | x | o\n",
      "\n",
      "player1 wins !!!!\n",
      "Do you want to continue, enter y to continue or any other key to stop.u\n",
      "thanks for playing this game\n"
     ]
    }
   ],
   "source": [
    "game()"
   ]
  },
  {
   "cell_type": "code",
   "execution_count": null,
   "metadata": {},
   "outputs": [],
   "source": []
  },
  {
   "cell_type": "code",
   "execution_count": null,
   "metadata": {},
   "outputs": [],
   "source": []
  },
  {
   "cell_type": "code",
   "execution_count": null,
   "metadata": {},
   "outputs": [],
   "source": []
  }
 ],
 "metadata": {
  "kernelspec": {
   "display_name": "Python 3",
   "language": "python",
   "name": "python3"
  },
  "language_info": {
   "codemirror_mode": {
    "name": "ipython",
    "version": 3
   },
   "file_extension": ".py",
   "mimetype": "text/x-python",
   "name": "python",
   "nbconvert_exporter": "python",
   "pygments_lexer": "ipython3",
   "version": "3.7.4"
  }
 },
 "nbformat": 4,
 "nbformat_minor": 2
}
